{
 "cells": [
  {
   "cell_type": "markdown",
   "metadata": {},
   "source": [
    "# This notebook present the most basic use of Grid2Op\n",
    "Try me out interactively with: [![Binder](./img/badge_logo.svg)](https://mybinder.org/v2/gh/Grid2Op/grid2op/master)"
   ]
  },
  {
   "cell_type": "markdown",
   "metadata": {},
   "source": [
    "**Objectives**\n",
    "\n",
    "This notebook will cover some basic raw functionalities at first. It will then show how these raw functionalities are encapsulated in easy-to-use functions.\n",
    "\n",
    "As we will see later, the recommended way to use these functionalities is to go through the Runner, and not through the instanciation of the different classes one after the other."
   ]
  },
  {
   "cell_type": "markdown",
   "metadata": {},
   "source": [
    "<img src=\"https://colab.research.google.com/assets/colab-badge.svg\" width=\"200\">\n",
    "Execute the cell below by removing the # character if you use google colab !\n",
    "\n",
    "Cell will look like:\n",
    "```python\n",
    "!pip install grid2op[optional]  # for use with google colab (grid2Op is not installed by default)\n",
    "```\n",
    "<img src=\"https://colab.research.google.com/assets/colab-badge.svg\" width=\"200\">"
   ]
  },
  {
   "cell_type": "code",
   "execution_count": 1,
   "metadata": {},
   "outputs": [],
   "source": [
    "# !pip install grid2op[optional]  # for use with google colab (grid2Op is not installed by default)"
   ]
  },
  {
   "cell_type": "code",
   "execution_count": 2,
   "metadata": {},
   "outputs": [
    {
     "name": "stderr",
     "output_type": "stream",
     "text": [
      "c:\\Users\\admin\\Grid2Op\\venv_g2op\\lib\\site-packages\\grid2op\\Backend\\pandaPowerBackend.py:36: UserWarning: Numba cannot be loaded. You will gain possibly massive speed if installing it by \n",
      "\tc:\\Users\\admin\\Grid2Op\\venv_g2op\\Scripts\\python.exe -m pip install numba\n",
      "\n",
      "  warnings.warn(\n"
     ]
    }
   ],
   "source": [
    "import os\n",
    "import sys\n",
    "import grid2op"
   ]
  },
  {
   "cell_type": "code",
   "execution_count": 3,
   "metadata": {},
   "outputs": [
    {
     "data": {
      "text/html": [
       "<div id=\"my_id_menu_nb\">run previous cell, wait for 2 seconds</div>\n",
       "<script>\n",
       "function repeat_indent_string(n){\n",
       "    var a = \"\" ;\n",
       "    for ( ; n > 0 ; --n)\n",
       "        a += \"    \";\n",
       "    return a;\n",
       "}\n",
       "// look up into all sections and builds an automated menu //\n",
       "var update_menu_string = function(begin, lfirst, llast, sformat, send, keep_item, begin_format, end_format) {\n",
       "    var anchors = document.getElementsByClassName(\"section\");\n",
       "    if (anchors.length == 0) {\n",
       "        anchors = document.getElementsByClassName(\"text_cell_render rendered_html\");\n",
       "    }\n",
       "    var i,t;\n",
       "    var text_menu = begin;\n",
       "    var text_memo = \"<pre>\\nlength:\" + anchors.length + \"\\n\";\n",
       "    var ind = \"\";\n",
       "    var memo_level = 1;\n",
       "    var href;\n",
       "    var tags = [];\n",
       "    var main_item = 0;\n",
       "    var format_open = 0;\n",
       "    for (i = 0; i <= llast; i++)\n",
       "        tags.push(\"h\" + i);\n",
       "\n",
       "    for (i = 0; i < anchors.length; i++) {\n",
       "        text_memo += \"**\" + anchors[i].id + \"--\\n\";\n",
       "\n",
       "        var child = null;\n",
       "        for(t = 0; t < tags.length; t++) {\n",
       "            var r = anchors[i].getElementsByTagName(tags[t]);\n",
       "            if (r.length > 0) {\n",
       "child = r[0];\n",
       "break;\n",
       "            }\n",
       "        }\n",
       "        if (child == null) {\n",
       "            text_memo += \"null\\n\";\n",
       "            continue;\n",
       "        }\n",
       "        if (anchors[i].hasAttribute(\"id\")) {\n",
       "            // when converted in RST\n",
       "            href = anchors[i].id;\n",
       "            text_memo += \"#1-\" + href;\n",
       "            // passer à child suivant (le chercher)\n",
       "        }\n",
       "        else if (child.hasAttribute(\"id\")) {\n",
       "            // in a notebook\n",
       "            href = child.id;\n",
       "            text_memo += \"#2-\" + href;\n",
       "        }\n",
       "        else {\n",
       "            text_memo += \"#3-\" + \"*\" + \"\\n\";\n",
       "            continue;\n",
       "        }\n",
       "        var title = child.textContent;\n",
       "        var level = parseInt(child.tagName.substring(1,2));\n",
       "\n",
       "        text_memo += \"--\" + level + \"?\" + lfirst + \"--\" + title + \"\\n\";\n",
       "\n",
       "        if ((level < lfirst) || (level > llast)) {\n",
       "            continue ;\n",
       "        }\n",
       "        if (title.endsWith('¶')) {\n",
       "            title = title.substring(0,title.length-1).replace(\"<\", \"&lt;\")\n",
       "         .replace(\">\", \"&gt;\").replace(\"&\", \"&amp;\");\n",
       "        }\n",
       "        if (title.length == 0) {\n",
       "            continue;\n",
       "        }\n",
       "\n",
       "        while (level < memo_level) {\n",
       "            text_menu += end_format + \"</ul>\\n\";\n",
       "            format_open -= 1;\n",
       "            memo_level -= 1;\n",
       "        }\n",
       "        if (level == lfirst) {\n",
       "            main_item += 1;\n",
       "        }\n",
       "        if (keep_item != -1 && main_item != keep_item + 1) {\n",
       "            // alert(main_item + \" - \" + level + \" - \" + keep_item);\n",
       "            continue;\n",
       "        }\n",
       "        while (level > memo_level) {\n",
       "            text_menu += \"<ul>\\n\";\n",
       "            memo_level += 1;\n",
       "        }\n",
       "        text_menu += repeat_indent_string(level-2);\n",
       "        text_menu += begin_format + sformat.replace(\"__HREF__\", href).replace(\"__TITLE__\", title);\n",
       "        format_open += 1;\n",
       "    }\n",
       "    while (1 < memo_level) {\n",
       "        text_menu += end_format + \"</ul>\\n\";\n",
       "        memo_level -= 1;\n",
       "        format_open -= 1;\n",
       "    }\n",
       "    text_menu += send;\n",
       "    //text_menu += \"\\n\" + text_memo;\n",
       "\n",
       "    while (format_open > 0) {\n",
       "        text_menu += end_format;\n",
       "        format_open -= 1;\n",
       "    }\n",
       "    return text_menu;\n",
       "};\n",
       "var update_menu = function() {\n",
       "    var sbegin = \"\";\n",
       "    var sformat = '<a href=\"#__HREF__\">__TITLE__</a>';\n",
       "    var send = \"\";\n",
       "    var begin_format = '<li>';\n",
       "    var end_format = '</li>';\n",
       "    var keep_item = -1;\n",
       "    var text_menu = update_menu_string(sbegin, 2, 4, sformat, send, keep_item,\n",
       "       begin_format, end_format);\n",
       "    var menu = document.getElementById(\"my_id_menu_nb\");\n",
       "    menu.innerHTML=text_menu;\n",
       "};\n",
       "window.setTimeout(update_menu,2000);\n",
       "            </script>"
      ],
      "text/plain": [
       "<IPython.core.display.HTML object>"
      ]
     },
     "execution_count": 3,
     "metadata": {},
     "output_type": "execute_result"
    }
   ],
   "source": [
    "res = None\n",
    "try:\n",
    "    from jyquickhelper import add_notebook_menu\n",
    "    res = add_notebook_menu()\n",
    "except ModuleNotFoundError:\n",
    "    print(\"Impossible to automatically add a menu / table of content to this notebook.\\nYou can download \\\"jyquickhelper\\\" package with: \\n\\\"pip install jyquickhelper\\\"\")\n",
    "res"
   ]
  },
  {
   "cell_type": "markdown",
   "metadata": {},
   "source": [
    "## I) Creating an Environment"
   ]
  },
  {
   "cell_type": "markdown",
   "metadata": {},
   "source": [
    "### I.A) Default settings"
   ]
  },
  {
   "cell_type": "markdown",
   "metadata": {},
   "source": [
    "We provide a function that will handle the creation of the Environment with default values in a single call of the function.\n",
    "\n",
    "In this example we will use the `rte_case14_redisp` environment, in test mode.\n",
    "\n",
    "To define/create it, we can call:"
   ]
  },
  {
   "cell_type": "code",
   "execution_count": 4,
   "metadata": {},
   "outputs": [
    {
     "name": "stderr",
     "output_type": "stream",
     "text": [
      "c:\\Users\\admin\\Grid2Op\\venv_g2op\\lib\\site-packages\\grid2op\\MakeEnv\\Make.py:454: UserWarning: You are using a development environment. This environment is not intended for training agents. It might not be up to date and its primary use if for tests (hence the \"test=True\" you passed as argument). Use at your own risk.\n",
      "  warnings.warn(_MAKE_DEV_ENV_WARN)\n"
     ]
    }
   ],
   "source": [
    "env = grid2op.make(\"rte_case14_redisp\", test=True)"
   ]
  },
  {
   "cell_type": "markdown",
   "metadata": {},
   "source": [
    "**NB** By setting \"test=True\" in the above call, we only use the data for 2 different months for our environment. If you remove it, grid2op.make will attempt to download more data. By default, the data corresponding to this environment will be downloaded to your \"home\" directory, which corresponds to the location returned by this script:\n",
    "\n",
    "```python\n",
    "print(f\"grid2op dataset will be downloaded in \\\"{grid2op.get_current_local_dir()}\\\"\")\n",
    "```\n",
    "\n",
    "Other environments can be used and are available through the \"make\" command. To get a list of the available environments, you can do:"
   ]
  },
  {
   "cell_type": "code",
   "execution_count": 5,
   "metadata": {},
   "outputs": [],
   "source": [
    "env = grid2op.make(\"l2rpn_wcci_2020\")\n"
   ]
  },
  {
   "cell_type": "code",
   "execution_count": 6,
   "metadata": {},
   "outputs": [
    {
     "data": {
      "text/plain": [
       "['l2rpn_2019',\n",
       " 'l2rpn_case14_sandbox',\n",
       " 'l2rpn_icaps_2021_large',\n",
       " 'l2rpn_icaps_2021_small',\n",
       " 'l2rpn_idf_2023',\n",
       " 'l2rpn_neurips_2020_track1_large',\n",
       " 'l2rpn_neurips_2020_track1_small',\n",
       " 'l2rpn_neurips_2020_track2_large',\n",
       " 'l2rpn_neurips_2020_track2_small',\n",
       " 'l2rpn_wcci_2020',\n",
       " 'l2rpn_wcci_2022',\n",
       " 'rte_case14_realistic',\n",
       " 'rte_case14_redisp',\n",
       " 'wcci_test']"
      ]
     },
     "execution_count": 6,
     "metadata": {},
     "output_type": "execute_result"
    }
   ],
   "source": [
    "grid2op.list_available_remote_env()  # this only works if you have an internet connection"
   ]
  },
  {
   "cell_type": "markdown",
   "metadata": {},
   "source": [
    "It is also possible to list the environments that you have already downloaded (if any). \n",
    "\n",
    "**NB** : Downloading is automatic and is done the first time you call `make` with an environment that has not been already locally downloaded."
   ]
  },
  {
   "cell_type": "code",
   "execution_count": null,
   "metadata": {},
   "outputs": [
    {
     "data": {
      "text/plain": [
       "['educ_case14_redisp',\n",
       " 'educ_case14_storage',\n",
       " 'l2rpn_case14_sandbox',\n",
       " 'l2rpn_case14_sandbox_diff_grid',\n",
       " 'l2rpn_icaps_2021',\n",
       " 'l2rpn_idf_2023',\n",
       " 'l2rpn_neurips_2020_track1',\n",
       " 'l2rpn_neurips_2020_track2',\n",
       " 'l2rpn_wcci_2020',\n",
       " 'l2rpn_wcci_2022',\n",
       " 'l2rpn_wcci_2022_dev',\n",
       " 'rte_case118_example',\n",
       " 'rte_case14_opponent',\n",
       " 'rte_case14_realistic',\n",
       " 'rte_case14_redisp',\n",
       " 'rte_case14_test',\n",
       " 'rte_case5_example']"
      ]
     },
     "execution_count": 15,
     "metadata": {},
     "output_type": "execute_result"
    }
   ],
   "source": [
    "grid2op.list_available_test_env() "
   ]
  },
  {
   "cell_type": "code",
   "execution_count": 5,
   "metadata": {},
   "outputs": [
    {
     "data": {
      "text/plain": [
       "['l2rpn_2019',\n",
       " 'l2rpn_case14_sandbox',\n",
       " 'l2rpn_case14_sandbox_test',\n",
       " 'l2rpn_case14_sandbox_train',\n",
       " 'l2rpn_case14_sandbox_val',\n",
       " 'l2rpn_wcci_2022']"
      ]
     },
     "execution_count": 5,
     "metadata": {},
     "output_type": "execute_result"
    }
   ],
   "source": [
    "grid2op.list_available_local_env()"
   ]
  },
  {
   "cell_type": "markdown",
   "metadata": {},
   "source": [
    "For more customization on where the environment are located (*e.g.* changing the `grid2op.get_current_local_dir()` the documentation provides extra information at https://grid2op.readthedocs.io/en/latest/makeenv.html#cache-manipulation"
   ]
  },
  {
   "cell_type": "code",
   "execution_count": 7,
   "metadata": {},
   "outputs": [
    {
     "name": "stderr",
     "output_type": "stream",
     "text": [
      "c:\\Users\\admin\\Grid2Op\\venv_g2op\\lib\\site-packages\\grid2op\\MakeEnv\\Make.py:454: UserWarning: You are using a development environment. This environment is not intended for training agents. It might not be up to date and its primary use if for tests (hence the \"test=True\" you passed as argument). Use at your own risk.\n",
      "  warnings.warn(_MAKE_DEV_ENV_WARN)\n"
     ]
    }
   ],
   "source": [
    "import grid2op\n",
    "li = grid2op.list_available_test_env()\n",
    "\n",
    "env = grid2op.make(li[0], test=True)"
   ]
  },
  {
   "cell_type": "code",
   "execution_count": 28,
   "metadata": {},
   "outputs": [
    {
     "name": "stdout",
     "output_type": "stream",
     "text": [
      "\u001b[1;31mSignature:\u001b[0m\n",
      "\u001b[0mBackend\u001b[0m\u001b[1;33m.\u001b[0m\u001b[0mload_redispacthing_data\u001b[0m\u001b[1;33m(\u001b[0m\u001b[1;33m\n",
      "\u001b[0m    \u001b[0mself\u001b[0m\u001b[1;33m,\u001b[0m\u001b[1;33m\n",
      "\u001b[0m    \u001b[0mpath\u001b[0m\u001b[1;33m:\u001b[0m \u001b[0mUnion\u001b[0m\u001b[1;33m[\u001b[0m\u001b[0mos\u001b[0m\u001b[1;33m.\u001b[0m\u001b[0mPathLike\u001b[0m\u001b[1;33m,\u001b[0m \u001b[0mstr\u001b[0m\u001b[1;33m]\u001b[0m\u001b[1;33m,\u001b[0m\u001b[1;33m\n",
      "\u001b[0m    \u001b[0mname\u001b[0m\u001b[1;33m:\u001b[0m \u001b[0mOptional\u001b[0m\u001b[1;33m[\u001b[0m\u001b[0mstr\u001b[0m\u001b[1;33m]\u001b[0m \u001b[1;33m=\u001b[0m \u001b[1;34m'prods_charac.csv'\u001b[0m\u001b[1;33m,\u001b[0m\u001b[1;33m\n",
      "\u001b[0m\u001b[1;33m)\u001b[0m \u001b[1;33m->\u001b[0m \u001b[1;32mNone\u001b[0m\u001b[1;33m\u001b[0m\u001b[1;33m\u001b[0m\u001b[0m\n",
      "\u001b[1;31mDocstring:\u001b[0m\n",
      "INTERNAL\n",
      "\n",
      ".. warning:: /!\\\\ Internal, do not use unless you know what you are doing /!\\\\\n",
      "\n",
      "This method will load everything needed for the redispatching and unit commitment problem.\n",
      "\n",
      "We don't recommend at all to modify this function.\n",
      "\n",
      "Notes\n",
      "-----\n",
      "Before you use this function, make sure the names of the generators are properly set.\n",
      "\n",
      "For example you can either read them from the grid (setting self.name_gen) or call \n",
      "self._fill_names_obj() beforehand (this later is done in the environment.)\n",
      "\n",
      "Parameters\n",
      "----------\n",
      "path: ``str``\n",
      "    Location of the dataframe containing the redispatching data. This dataframe (csv, coma separated)\n",
      "    should have at least the columns (other columns are ignored, order of the colums do not matter):\n",
      "\n",
      "    - \"name\": identifying the name of the generator (should match the names in self.name_gen)\n",
      "    - \"type\": one of \"thermal\", \"nuclear\", \"wind\", \"solar\" or \"hydro\" representing the type of the generator\n",
      "    - \"pmax\": the maximum value the generator can produce (in MW)\n",
      "    - \"pmin\": the minimum value the generator can produce (in MW)\n",
      "    - \"max_ramp_up\": maximum value the generator can increase its production between two consecutive\n",
      "      steps TODO make it independant from the duration of the step\n",
      "    - \"max_ramp_down\": maximum value the generator can decrease its production between two consecutive\n",
      "      steps (is positive) TODO make it independant from the duration of the step\n",
      "    - \"start_cost\": starting cost of the generator in $ (or any currency you want)\n",
      "    - \"shut_down_cost\": cost associated to the shut down of the generator in $ (or any currency you want)\n",
      "    - \"marginal_cost\": \"average\" marginal cost of the generator. For now we don't allow it to vary across\n",
      "      different steps or episode in $/(MW.time step duration) and NOT $/MWh  (TODO change that)\n",
      "    - \"min_up_time\": minimum time a generator need to stay \"connected\" before we can disconnect it (\n",
      "      measured in time step)  (TODO change that)\n",
      "    - \"min_down_time\": minimum time a generator need to stay \"disconnected\" before we can connect it again.(\n",
      "      measured in time step)  (TODO change that)\n",
      "\n",
      "name: ``str``\n",
      "    Name of the dataframe containing the redispatching data. Defaults to 'prods_charac.csv', we don't advise\n",
      "    to change it.\n",
      "\u001b[1;31mFile:\u001b[0m      c:\\users\\admin\\grid2op\\venv_g2op\\lib\\site-packages\\grid2op\\backend\\backend.py\n",
      "\u001b[1;31mType:\u001b[0m      function"
     ]
    }
   ],
   "source": [
    "from grid2op.Backend import Backend\n",
    "Backend.load_redispacthing_data?"
   ]
  },
  {
   "cell_type": "code",
   "execution_count": 27,
   "metadata": {},
   "outputs": [
    {
     "name": "stdout",
     "output_type": "stream",
     "text": [
      "Help on function load_redispacthing_data in module grid2op.Backend.backend:\n",
      "\n",
      "load_redispacthing_data(self, path: Union[os.PathLike, str], name: Optional[str] = 'prods_charac.csv') -> None\n",
      "    INTERNAL\n",
      "    \n",
      "    .. warning:: /!\\\\ Internal, do not use unless you know what you are doing /!\\\\\n",
      "    \n",
      "    This method will load everything needed for the redispatching and unit commitment problem.\n",
      "    \n",
      "    We don't recommend at all to modify this function.\n",
      "    \n",
      "    Notes\n",
      "    -----\n",
      "    Before you use this function, make sure the names of the generators are properly set.\n",
      "    \n",
      "    For example you can either read them from the grid (setting self.name_gen) or call \n",
      "    self._fill_names_obj() beforehand (this later is done in the environment.)\n",
      "    \n",
      "    Parameters\n",
      "    ----------\n",
      "    path: ``str``\n",
      "        Location of the dataframe containing the redispatching data. This dataframe (csv, coma separated)\n",
      "        should have at least the columns (other columns are ignored, order of the colums do not matter):\n",
      "    \n",
      "        - \"name\": identifying the name of the generator (should match the names in self.name_gen)\n",
      "        - \"type\": one of \"thermal\", \"nuclear\", \"wind\", \"solar\" or \"hydro\" representing the type of the generator\n",
      "        - \"pmax\": the maximum value the generator can produce (in MW)\n",
      "        - \"pmin\": the minimum value the generator can produce (in MW)\n",
      "        - \"max_ramp_up\": maximum value the generator can increase its production between two consecutive\n",
      "          steps TODO make it independant from the duration of the step\n",
      "        - \"max_ramp_down\": maximum value the generator can decrease its production between two consecutive\n",
      "          steps (is positive) TODO make it independant from the duration of the step\n",
      "        - \"start_cost\": starting cost of the generator in $ (or any currency you want)\n",
      "        - \"shut_down_cost\": cost associated to the shut down of the generator in $ (or any currency you want)\n",
      "        - \"marginal_cost\": \"average\" marginal cost of the generator. For now we don't allow it to vary across\n",
      "          different steps or episode in $/(MW.time step duration) and NOT $/MWh  (TODO change that)\n",
      "        - \"min_up_time\": minimum time a generator need to stay \"connected\" before we can disconnect it (\n",
      "          measured in time step)  (TODO change that)\n",
      "        - \"min_down_time\": minimum time a generator need to stay \"disconnected\" before we can connect it again.(\n",
      "          measured in time step)  (TODO change that)\n",
      "    \n",
      "    name: ``str``\n",
      "        Name of the dataframe containing the redispatching data. Defaults to 'prods_charac.csv', we don't advise\n",
      "        to change it.\n",
      "\n"
     ]
    }
   ],
   "source": [
    "import grid2op\n",
    "help(grid2op.Backend.Backend.load_redispacthing_data)"
   ]
  },
  {
   "cell_type": "code",
   "execution_count": 30,
   "metadata": {},
   "outputs": [
    {
     "name": "stdout",
     "output_type": "stream",
     "text": [
      "\u001b[1;31mSignature:\u001b[0m\n",
      "\u001b[0mBackend\u001b[0m\u001b[1;33m.\u001b[0m\u001b[0mload_storage_data\u001b[0m\u001b[1;33m(\u001b[0m\u001b[1;33m\n",
      "\u001b[0m    \u001b[0mself\u001b[0m\u001b[1;33m,\u001b[0m\u001b[1;33m\n",
      "\u001b[0m    \u001b[0mpath\u001b[0m\u001b[1;33m:\u001b[0m \u001b[0mUnion\u001b[0m\u001b[1;33m[\u001b[0m\u001b[0mos\u001b[0m\u001b[1;33m.\u001b[0m\u001b[0mPathLike\u001b[0m\u001b[1;33m,\u001b[0m \u001b[0mstr\u001b[0m\u001b[1;33m]\u001b[0m\u001b[1;33m,\u001b[0m\u001b[1;33m\n",
      "\u001b[0m    \u001b[0mname\u001b[0m\u001b[1;33m:\u001b[0m \u001b[0mOptional\u001b[0m\u001b[1;33m[\u001b[0m\u001b[0mstr\u001b[0m\u001b[1;33m]\u001b[0m \u001b[1;33m=\u001b[0m \u001b[1;34m'storage_units_charac.csv'\u001b[0m\u001b[1;33m,\u001b[0m\u001b[1;33m\n",
      "\u001b[0m\u001b[1;33m)\u001b[0m \u001b[1;33m->\u001b[0m \u001b[1;32mNone\u001b[0m\u001b[1;33m\u001b[0m\u001b[1;33m\u001b[0m\u001b[0m\n",
      "\u001b[1;31mDocstring:\u001b[0m\n",
      "INTERNAL\n",
      "\n",
      ".. warning:: /!\\\\ Internal, do not use unless you know what you are doing /!\\\\\n",
      "\n",
      "This method will load everything needed in presence of storage unit on the grid.\n",
      "\n",
      "We don't recommend at all to modify this function.\n",
      "\n",
      "Notes\n",
      "-----\n",
      "Before you use this function, make sure the names of the generators are properly set.\n",
      "\n",
      "For example you can either read them from the grid (setting self.name_gen) or call \n",
      "self._fill_names_obj() beforehand (this later is done in the environment.)\n",
      "\n",
      "Parameters\n",
      "----------\n",
      "path: ``str``\n",
      "    Location of the dataframe containing the storage unit data. This dataframe (csv, coma separated)\n",
      "    should have at least the columns. It is mandatory to have it if there are storage units on the grid,\n",
      "    but it is ignored if not:\n",
      "\n",
      "    - \"name\": identifying the name of the unit storage (should match the names in self.name_storage)\n",
      "    - \"type\": one of \"battery\", \"pumped_storage\" representing the type of the unit storage\n",
      "    - \"Emax\": the maximum energy capacity the unit can store (in MWh)\n",
      "    - \"Emin\": the minimum energy capacity the unit can store (in MWh) [it can be >0 if a battery cannot be\n",
      "      completely empty for example]\n",
      "    - \"max_p_prod\": maximum flow the battery can absorb in MW\n",
      "    - \"max_p_absorb\": maximum flow the battery can produce in MW\n",
      "    - \"marginal_cost\": cost in $ (or any currency, really) of usage of the battery.\n",
      "    - \"power_discharge_loss\" (optional): power loss in the battery in MW (the capacity will decrease constantly\n",
      "      of this amount). Set it to 0.0 to deactivate it. If not present, it is set to 0.\n",
      "    - \"charging_efficiency\" (optional):\n",
      "       Float between 0. and 1. 1. means that if the grid provides 1MW (for ex. 1MW for 1h) to the storage\n",
      "       capacity, then the\n",
      "       state of charge of the battery will increase of 1MWh. If this efficiency is 0.5 then if 1MWh\n",
      "       if provided by the grid, then only 0.5MWh will be stored.\n",
      "    - \"discharging_efficiency\" (optional): battery efficiency when it is discharged. 1.0 means if you want to\n",
      "      get 1MWh on the grid, the battery state of charge will decrease by 1MWh. If this is 33% then it\n",
      "      means if you want to get (grid point of view) 1MWh on the grid, you need to decrease the\n",
      "      state of charge of 3MWh.\n",
      "\n",
      "name: ``str``\n",
      "    Name of the dataframe containing the redispatching data. Defaults to 'prods_charac.csv', we don't advise\n",
      "    to change it.\n",
      "\n",
      "Notes\n",
      "-----\n",
      "The battery efficiency defined as the \"AC-AC\" round trip efficiency is, with the convention above, defined\n",
      "as `charging_efficiency * discharging_efficency` (see\n",
      "https://www.greeningthegrid.org/news/new-resource-grid-scale-battery-storage-frequently-asked-questions-1\n",
      "for further references)\n",
      "\u001b[1;31mFile:\u001b[0m      c:\\users\\admin\\grid2op\\venv_g2op\\lib\\site-packages\\grid2op\\backend\\backend.py\n",
      "\u001b[1;31mType:\u001b[0m      function"
     ]
    }
   ],
   "source": [
    "from grid2op.Backend import Backend\n",
    "Backend.load_storage_data?"
   ]
  },
  {
   "cell_type": "code",
   "execution_count": 33,
   "metadata": {},
   "outputs": [
    {
     "name": "stdout",
     "output_type": "stream",
     "text": [
      "Help on function load_storage_data in module grid2op.Backend.backend:\n",
      "\n",
      "load_storage_data(self, path: Union[os.PathLike, str], name: Optional[str] = 'storage_units_charac.csv') -> None\n",
      "    INTERNAL\n",
      "    \n",
      "    .. warning:: /!\\\\ Internal, do not use unless you know what you are doing /!\\\\\n",
      "    \n",
      "    This method will load everything needed in presence of storage unit on the grid.\n",
      "    \n",
      "    We don't recommend at all to modify this function.\n",
      "    \n",
      "    Notes\n",
      "    -----\n",
      "    Before you use this function, make sure the names of the generators are properly set.\n",
      "    \n",
      "    For example you can either read them from the grid (setting self.name_gen) or call \n",
      "    self._fill_names_obj() beforehand (this later is done in the environment.)\n",
      "    \n",
      "    Parameters\n",
      "    ----------\n",
      "    path: ``str``\n",
      "        Location of the dataframe containing the storage unit data. This dataframe (csv, coma separated)\n",
      "        should have at least the columns. It is mandatory to have it if there are storage units on the grid,\n",
      "        but it is ignored if not:\n",
      "    \n",
      "        - \"name\": identifying the name of the unit storage (should match the names in self.name_storage)\n",
      "        - \"type\": one of \"battery\", \"pumped_storage\" representing the type of the unit storage\n",
      "        - \"Emax\": the maximum energy capacity the unit can store (in MWh)\n",
      "        - \"Emin\": the minimum energy capacity the unit can store (in MWh) [it can be >0 if a battery cannot be\n",
      "          completely empty for example]\n",
      "        - \"max_p_prod\": maximum flow the battery can absorb in MW\n",
      "        - \"max_p_absorb\": maximum flow the battery can produce in MW\n",
      "        - \"marginal_cost\": cost in $ (or any currency, really) of usage of the battery.\n",
      "        - \"power_discharge_loss\" (optional): power loss in the battery in MW (the capacity will decrease constantly\n",
      "          of this amount). Set it to 0.0 to deactivate it. If not present, it is set to 0.\n",
      "        - \"charging_efficiency\" (optional):\n",
      "           Float between 0. and 1. 1. means that if the grid provides 1MW (for ex. 1MW for 1h) to the storage\n",
      "           capacity, then the\n",
      "           state of charge of the battery will increase of 1MWh. If this efficiency is 0.5 then if 1MWh\n",
      "           if provided by the grid, then only 0.5MWh will be stored.\n",
      "        - \"discharging_efficiency\" (optional): battery efficiency when it is discharged. 1.0 means if you want to\n",
      "          get 1MWh on the grid, the battery state of charge will decrease by 1MWh. If this is 33% then it\n",
      "          means if you want to get (grid point of view) 1MWh on the grid, you need to decrease the\n",
      "          state of charge of 3MWh.\n",
      "    \n",
      "    name: ``str``\n",
      "        Name of the dataframe containing the redispatching data. Defaults to 'prods_charac.csv', we don't advise\n",
      "        to change it.\n",
      "    \n",
      "    Notes\n",
      "    -----\n",
      "    The battery efficiency defined as the \"AC-AC\" round trip efficiency is, with the convention above, defined\n",
      "    as `charging_efficiency * discharging_efficency` (see\n",
      "    https://www.greeningthegrid.org/news/new-resource-grid-scale-battery-storage-frequently-asked-questions-1\n",
      "    for further references)\n",
      "\n"
     ]
    }
   ],
   "source": [
    "import grid2op\n",
    "help(grid2op.Backend.Backend.load_storage_data)"
   ]
  },
  {
   "cell_type": "code",
   "execution_count": null,
   "metadata": {},
   "outputs": [],
   "source": []
  },
  {
   "cell_type": "markdown",
   "metadata": {},
   "source": [
    "### I.B) Custom settings"
   ]
  },
  {
   "cell_type": "markdown",
   "metadata": {},
   "source": [
    "Using the `make` function, you can pass additional arguments to customize the environment (this is useful for training):\n",
    " - `param`: The parameters used for the Environment. See `grid2op.Parameters.Parameters`.\n",
    " - `backend` : The backend to use for the computation. If provided, it must be an instance of the class `grid2op.Backend.Backend`.\n",
    " - `action_class`: The type of BaseAction that the BaseAgent will be able to perform. If provided, it must be a subclass of `grid2op.BaseAction.BaseAction`.\n",
    " - `observation_class`: The type of BaseObservation that the BaseAgent will receive. If provided, It must be a subclass of `grid2op.BaseAction.BaseObservation`.\n",
    " - `reward_class`: The type of reward signal that the BaseAgent will receive. If provided, It must be a subclass of `grid2op.BaseReward.BaseReward`.\n",
    " - `gamerules_class`: The type of \"Rules\" that the BaseAgent will need to comply with. Rules are here to model some operational constraints. If provided, it must be a subclass of `grid2op.RulesChecker.BaseRules`.\n",
    " - `data_feeding_kwargs`: A dictionnary that is used to build the `data_feeding` (chronics) objects.\n",
    " - `chronics_class`: The type of chronics that represents the dynamics of the created Environment. Usually they come from different folders.\n",
    " - `data_feeding`: The type of chronics handler you want to use.\n",
    " - `volagecontroler_class`: The type of `grid2op.VoltageControler.VoltageControler` to use.\n",
    " - `chronics_path`: The path where to look for the chronics dataset (optional).\n",
    " - `grid_path`: The path where the powergrid is located. If provided, it must be a string and point to a valid file on the hard drive.\n",
    " \n",
    "For example, to set the number of maximum allowed substation changes per step:"
   ]
  },
  {
   "cell_type": "code",
   "execution_count": 6,
   "metadata": {},
   "outputs": [
    {
     "name": "stderr",
     "output_type": "stream",
     "text": [
      "c:\\Users\\admin\\Grid2Op\\venv_g2op\\lib\\site-packages\\grid2op\\MakeEnv\\Make.py:454: UserWarning: You are using a development environment. This environment is not intended for training agents. It might not be up to date and its primary use if for tests (hence the \"test=True\" you passed as argument). Use at your own risk.\n",
      "  warnings.warn(_MAKE_DEV_ENV_WARN)\n"
     ]
    }
   ],
   "source": [
    "from grid2op.Parameters import Parameters\n",
    "\n",
    "custom_params = Parameters()\n",
    "custom_params.MAX_SUB_CHANGED = 1\n",
    "env = grid2op.make(\"l2rpn_case14_sandbox\", param=custom_params, test=True)"
   ]
  },
  {
   "cell_type": "markdown",
   "metadata": {},
   "source": [
    "**NB** The `make` function is highly customizable. For example, you can change the reward that you are using:\n",
    "\n",
    "```python\n",
    "from grid2op.Reward import L2RPNReward\n",
    "env = grid2op.make(reward_class=L2RPNReward)\n",
    "```\n",
    "\n",
    "We also give the possibility to assess different rewards. This can be done with the following code:\n",
    "\n",
    "```python\n",
    "\n",
    "from grid2op.Reward import L2RPNReward, FlatReward\n",
    "env = grid2op.make(reward_class=L2RPNReward,\n",
    "                   other_rewards={\"other_reward\" : FlatReward })\n",
    "```\n",
    "The results for these rewards can be accessed with the `info` object returned by `env.step` (`info` is the 4th object returned by `env.step`, as you can see below). See the official reward documentation [here](https://grid2op.readthedocs.io/en/latest/reward.html) for more information."
   ]
  },
  {
   "cell_type": "markdown",
   "metadata": {},
   "source": [
    "## II) Creating an Agent"
   ]
  },
  {
   "cell_type": "markdown",
   "metadata": {},
   "source": [
    "An *Agent* is the name given to the \"operator\" / \"bot\" / \"algorithm\" that will perform some modifications of the powergrid when it faces some \"observation\".\n",
    "\n",
    "Examples of Agents are provided in the grid2Op/Agent directory of the grid2Op code repository.\n",
    "\n",
    "A deeper look at the different provided Agents can be found in the [05_StudyYourAgent](05_StudyYourAgent.ipynb) notebook. We suppose here that we use the most simple Agent, the one that does nothing (`DoNothingAgent`)."
   ]
  },
  {
   "cell_type": "code",
   "execution_count": 1,
   "metadata": {},
   "outputs": [
    {
     "name": "stderr",
     "output_type": "stream",
     "text": [
      "c:\\Users\\admin\\Grid2Op\\venv_g2op\\lib\\site-packages\\grid2op\\Backend\\pandaPowerBackend.py:36: UserWarning: Numba cannot be loaded. You will gain possibly massive speed if installing it by \n",
      "\tc:\\Users\\admin\\Grid2Op\\venv_g2op\\Scripts\\python.exe -m pip install numba\n",
      "\n",
      "  warnings.warn(\n"
     ]
    },
    {
     "ename": "NameError",
     "evalue": "name 'env' is not defined",
     "output_type": "error",
     "traceback": [
      "\u001b[1;31m---------------------------------------------------------------------------\u001b[0m",
      "\u001b[1;31mNameError\u001b[0m                                 Traceback (most recent call last)",
      "Cell \u001b[1;32mIn[1], line 2\u001b[0m\n\u001b[0;32m      1\u001b[0m \u001b[38;5;28;01mfrom\u001b[39;00m\u001b[38;5;250m \u001b[39m\u001b[38;5;21;01mgrid2op\u001b[39;00m\u001b[38;5;21;01m.\u001b[39;00m\u001b[38;5;21;01mAgent\u001b[39;00m\u001b[38;5;250m \u001b[39m\u001b[38;5;28;01mimport\u001b[39;00m DoNothingAgent\n\u001b[1;32m----> 2\u001b[0m my_agent \u001b[38;5;241m=\u001b[39m DoNothingAgent(\u001b[43menv\u001b[49m\u001b[38;5;241m.\u001b[39maction_space)\n",
      "\u001b[1;31mNameError\u001b[0m: name 'env' is not defined"
     ]
    }
   ],
   "source": [
    "from grid2op.Agent import DoNothingAgent\n",
    "my_agent = DoNothingAgent(env.action_space)"
   ]
  },
  {
   "cell_type": "markdown",
   "metadata": {},
   "source": [
    "## III) Assess how the Agent is performing (manually)"
   ]
  },
  {
   "cell_type": "markdown",
   "metadata": {},
   "source": [
    "The performance of an Agent is assessed with the cumulated reward it receives over time. In this example, the cumulated reward is a *FlatReward* that simply computes how many time steps the *Agent* has sucessfully managed before breaking any rules. For more control over this reward, it is recommended to use look at the documentation of the Environment class.\n",
    "\n",
    "More examples of rewards are also available on the official documentation or [here](https://grid2op.readthedocs.io/en/latest/reward.html)."
   ]
  },
  {
   "cell_type": "code",
   "execution_count": 8,
   "metadata": {},
   "outputs": [],
   "source": [
    "done = False\n",
    "time_step = int(0)\n",
    "cum_reward = 0.\n",
    "obs = env.reset()\n",
    "reward = env.reward_range[0]\n",
    "max_iter = 10\n",
    "while not done:\n",
    "    act = my_agent.act(obs, reward, done) # chose an action to do, in this case \"do nothing\"\n",
    "    obs, reward, done, info = env.step(act) # implement this action on the powergrid\n",
    "    cum_reward += reward\n",
    "    time_step += 1\n",
    "    if time_step >= max_iter:\n",
    "        break"
   ]
  },
  {
   "cell_type": "markdown",
   "metadata": {},
   "source": [
    "We can now evaluate how well this *agent* is performing:"
   ]
  },
  {
   "cell_type": "code",
   "execution_count": 9,
   "metadata": {},
   "outputs": [
    {
     "name": "stdout",
     "output_type": "stream",
     "text": [
      "This agent managed to survive 10 timesteps\n",
      "It's final cumulated reward is 648.9079627990723\n"
     ]
    }
   ],
   "source": [
    "print(\"This agent managed to survive {} timesteps\".format(time_step))\n",
    "print(\"It's final cumulated reward is {}\".format(cum_reward))"
   ]
  },
  {
   "cell_type": "markdown",
   "metadata": {},
   "source": [
    "## IV) More convenient ways to assess the performance of an agent"
   ]
  },
  {
   "cell_type": "markdown",
   "metadata": {},
   "source": [
    "All the steps above have been detailed as a \"quick start\", to give an example of the main classes of the Grid2Op package. Having to code all of the above can be quite tedious, but offers a lot of flexibility.\n",
    "\n",
    "Implementing all this before starting to evaluate an agent can be tiring. What we show here is a much shorter way to perfom all this. In this section we will exhibit 2 ways:\n",
    "* The quickest way, using the grid2op.main API, most suited when basic computations need to be carried out.\n",
    "* The recommended way using a *Runner*. This gives more flexibility than the grid2op.main API but can be harder to configure.\n",
    "\n",
    "In this section, we assume the same as before:\n",
    "* The Agent is the \"Do Nothing\" agent\n",
    "* The Environment is the default Environment\n",
    "* PandaPower is used as the backend\n",
    "* The chronics comes from the files included in this package\n",
    "* etc."
   ]
  },
  {
   "cell_type": "markdown",
   "metadata": {},
   "source": [
    "### IV.A) Using the grid2op.runner API"
   ]
  },
  {
   "cell_type": "markdown",
   "metadata": {},
   "source": [
    "When only simple assessments need to be performed, the grid2op.main API is perfectly suited. This API can also be accessed with the command line:\n",
    "```bash\n",
    "python3 -m grid2op.main\n",
    "```\n",
    "\n",
    "We detail here its usage as an API, to assess the performance of a given Agent.\n",
    "\n",
    "As opposed to building en environment from scratch (see the previous section), this requires much less effort: we don't need to initialize (instanciate) anything. Everything is carried out inside the Runner called by the `main` function.\n",
    "\n",
    "We simulate 1 episode here (eg. we play one scenario until: either the agent does a game over, or the scenario ends), but this method would work too if we wanted to simulate more episodes."
   ]
  },
  {
   "cell_type": "code",
   "execution_count": 10,
   "metadata": {},
   "outputs": [],
   "source": [
    "from grid2op.Runner import Runner\n",
    "runner = Runner(**env.get_params_for_runner(), agentClass=DoNothingAgent)\n",
    "res = runner.run(nb_episode=1, max_iter=max_iter)"
   ]
  },
  {
   "cell_type": "markdown",
   "metadata": {},
   "source": [
    "A call of the single 2 lines above will:\n",
    "* Create a valid environment\n",
    "* Create a valid agent\n",
    "* Assess how well an agent performs on one episode."
   ]
  },
  {
   "cell_type": "code",
   "execution_count": 11,
   "metadata": {},
   "outputs": [
    {
     "name": "stdout",
     "output_type": "stream",
     "text": [
      "The results are:\n",
      "\tFor chronics located at c:\\Users\\admin\\Grid2Op\\venv_g2op\\lib\\site-packages\\grid2op\\data\\l2rpn_case14_sandbox\\chronics\\0000\n",
      "\t\t - cumulative reward: 645.70\n",
      "\t\t - number of time steps completed: 10 / 10\n"
     ]
    }
   ],
   "source": [
    "print(\"The results are:\")\n",
    "for chron_name, _, cum_reward, nb_time_step, max_ts in res:\n",
    "    msg_tmp = \"\\tFor chronics located at {}\\n\".format(chron_name)\n",
    "    msg_tmp += \"\\t\\t - cumulative reward: {:.2f}\\n\".format(cum_reward)\n",
    "    msg_tmp += \"\\t\\t - number of time steps completed: {:.0f} / {:.0f}\".format(nb_time_step, max_ts)\n",
    "    print(msg_tmp)"
   ]
  },
  {
   "cell_type": "markdown",
   "metadata": {},
   "source": [
    "This is particularly suited for evaluating different agents. For example, we can quickly evaluate a second agent. In the example below, we can import an agent class *PowerLineSwitch* whose job is to connect and disconnect the power lines in the power network. This *PowerLineSwitch* Agent will **simulate** the effect of disconnecting a powerline for each powerline in the powergrid, and take the best action found ie the one whose simulated effect is the best (its execution can take a long time, depending on the scenario and the amount of powerlines in the grid). **The execution of the code below can take a little time**."
   ]
  },
  {
   "cell_type": "code",
   "execution_count": 12,
   "metadata": {},
   "outputs": [
    {
     "name": "stdout",
     "output_type": "stream",
     "text": [
      "The results are:\n",
      "\tFor chronics located at c:\\Users\\admin\\Grid2Op\\venv_g2op\\lib\\site-packages\\grid2op\\data\\l2rpn_case14_sandbox\\chronics\\0000\n",
      "\t\t - cumulative reward: 645.71\n",
      "\t\t - number of time steps completed: 10 / 10\n"
     ]
    }
   ],
   "source": [
    "from grid2op.Agent import PowerLineSwitch\n",
    "runner = Runner(**env.get_params_for_runner(), agentClass=PowerLineSwitch)\n",
    "res = runner.run(nb_episode=1, max_iter=max_iter)\n",
    "print(\"The results are:\")\n",
    "for chron_name, _, cum_reward, nb_time_step, max_ts in res:\n",
    "    msg_tmp = \"\\tFor chronics located at {}\\n\".format(chron_name)\n",
    "    msg_tmp += \"\\t\\t - cumulative reward: {:.2f}\\n\".format(cum_reward)\n",
    "    msg_tmp += \"\\t\\t - number of time steps completed: {:.0f} / {:.0f}\".format(nb_time_step, max_ts)\n",
    "    print(msg_tmp)"
   ]
  },
  {
   "cell_type": "markdown",
   "metadata": {},
   "source": [
    "It is also possible using this API to store the results for a detailed examination of the actions taken by the Agent. Note that writing on the hard drive has an overhead on the computation time.\n",
    "\n",
    "To do this, only a simple argument needs to be added to the *main* function call (`path_save`, which indicates where the outcome of the experiment will be stored). An example can be found below :"
   ]
  },
  {
   "cell_type": "code",
   "execution_count": 13,
   "metadata": {},
   "outputs": [
    {
     "name": "stdout",
     "output_type": "stream",
     "text": [
      "The results are:\n",
      "\tFor chronics located at c:\\Users\\admin\\Grid2Op\\venv_g2op\\lib\\site-packages\\grid2op\\data\\l2rpn_case14_sandbox\\chronics\\0000\n",
      "\t\t - cumulative reward: 645.71\n",
      "\t\t - number of time steps completed: 10 / 10\n"
     ]
    }
   ],
   "source": [
    "runner = Runner(**env.get_params_for_runner(),\n",
    "                agentClass=PowerLineSwitch\n",
    "               )\n",
    "path_save_expe = os.path.abspath(\"saved_experiment_donothing\")\n",
    "res = runner.run(nb_episode=1, max_iter=max_iter, path_save=path_save_expe)\n",
    "print(\"The results are:\")\n",
    "for chron_name, _, cum_reward, nb_time_step, max_ts in res:\n",
    "    msg_tmp = \"\\tFor chronics located at {}\\n\".format(chron_name)\n",
    "    msg_tmp += \"\\t\\t - cumulative reward: {:.2f}\\n\".format(cum_reward)\n",
    "    msg_tmp += \"\\t\\t - number of time steps completed: {:.0f} / {:.0f}\".format(nb_time_step, max_ts)\n",
    "    print(msg_tmp)"
   ]
  },
  {
   "cell_type": "code",
   "execution_count": 14,
   "metadata": {
    "scrolled": true
   },
   "outputs": [
    {
     "ename": "FileNotFoundError",
     "evalue": "[WinError 3] The system cannot find the path specified: 'c:\\\\Users\\\\admin\\\\Grid2Op\\\\getting_started\\\\nhapP\\\\saved_experiment_donothing\\\\0'",
     "output_type": "error",
     "traceback": [
      "\u001b[1;31m---------------------------------------------------------------------------\u001b[0m",
      "\u001b[1;31mFileNotFoundError\u001b[0m                         Traceback (most recent call last)",
      "Cell \u001b[1;32mIn[14], line 1\u001b[0m\n\u001b[1;32m----> 1\u001b[0m \u001b[43mos\u001b[49m\u001b[38;5;241;43m.\u001b[39;49m\u001b[43mlistdir\u001b[49m\u001b[43m(\u001b[49m\u001b[43mos\u001b[49m\u001b[38;5;241;43m.\u001b[39;49m\u001b[43mpath\u001b[49m\u001b[38;5;241;43m.\u001b[39;49m\u001b[43mjoin\u001b[49m\u001b[43m(\u001b[49m\u001b[43mpath_save_expe\u001b[49m\u001b[43m,\u001b[49m\u001b[43m \u001b[49m\u001b[38;5;124;43m\"\u001b[39;49m\u001b[38;5;124;43m0\u001b[39;49m\u001b[38;5;124;43m\"\u001b[39;49m\u001b[43m)\u001b[49m\u001b[43m)\u001b[49m\n",
      "\u001b[1;31mFileNotFoundError\u001b[0m: [WinError 3] The system cannot find the path specified: 'c:\\\\Users\\\\admin\\\\Grid2Op\\\\getting_started\\\\nhapP\\\\saved_experiment_donothing\\\\0'"
     ]
    }
   ],
   "source": [
    "os.listdir(os.path.join(path_save_expe, \"0\"))"
   ]
  },
  {
   "cell_type": "markdown",
   "metadata": {},
   "source": [
    "All the outcomes of the experiment are shown above. For more information, please don't hesitate to read the documentation of [Runner](https://grid2op.readthedocs.io/en/latest/runner.html).\n",
    "\n",
    "**NB**: A lot more of information about *Actions* is provided in the [(03_Action](03_Action.ipynb) notebook. In the [04_TrainingAnAgent](04_TrainingAnAgent.ipynb) (last section), there is an quick example of how to read / write an action from a saved repository.\n"
   ]
  },
  {
   "cell_type": "markdown",
   "metadata": {},
   "source": [
    "Using `make` and `Runner` makes it easy to assess the performance of a trained agent. Besides, the `Runner` has been particularly integrated with other tools and makes it easy to replay and analyse an episode after it is finished. It is the recommended method to use in grid2op for the evaluation."
   ]
  }
 ],
 "metadata": {
  "kernelspec": {
   "display_name": "venv_g2op",
   "language": "python",
   "name": "python3"
  },
  "language_info": {
   "codemirror_mode": {
    "name": "ipython",
    "version": 3
   },
   "file_extension": ".py",
   "mimetype": "text/x-python",
   "name": "python",
   "nbconvert_exporter": "python",
   "pygments_lexer": "ipython3",
   "version": "3.10.10"
  }
 },
 "nbformat": 4,
 "nbformat_minor": 2
}
