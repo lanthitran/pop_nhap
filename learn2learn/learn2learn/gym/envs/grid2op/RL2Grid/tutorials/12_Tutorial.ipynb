{
 "cells": [
  {
   "cell_type": "markdown",
   "metadata": {},
   "source": []
  },
  {
   "cell_type": "code",
   "execution_count": null,
   "metadata": {},
   "outputs": [],
   "source": []
  },
  {
   "cell_type": "markdown",
   "metadata": {},
   "source": [
    "## MultifolderWithCache"
   ]
  },
  {
   "cell_type": "code",
   "execution_count": 2,
   "metadata": {},
   "outputs": [],
   "source": [
    "import numpy as np\n",
    "import re\n",
    "import grid2op\n",
    "from grid2op.Agent import RandomAgent\n",
    "from grid2op.Chronics import MultifolderWithCache\n",
    "\n",
    "###################################\n",
    "env = grid2op.make(\"l2rpn_case14_sandbox\", chronics_class=MultifolderWithCache)\n",
    "# I select only part of the data, it's unlikely the whole dataset can fit into memory...\n",
    "env.chronics_handler.set_filter(lambda path: re.match(\".*000[0-9].*\", path) is not None)\n",
    "# you need to do that\n",
    "kept = env.chronics_handler.real_data.reset()\n",
    "###################################\n",
    "\n",
    "agent = RandomAgent(env.action_space)\n",
    "env.seed(0)  # for reproducible experiments\n",
    "\n",
    "episode_count = 10  # i want to make lots of episode\n",
    "\n",
    "# i initialize some useful variables\n",
    "reward = 0\n",
    "done = False\n",
    "total_reward = 0\n",
    "\n",
    "# and now the loop starts\n",
    "# it will only used the chronics selected\n",
    "for i in range(episode_count):\n",
    "    ob = env.reset()\n",
    "\n",
    "    # now play the episode as usual\n",
    "    while True:\n",
    "       action = agent.act(ob, reward, done)\n",
    "       ob, reward, done, info = env.step(action)\n",
    "       total_reward += reward\n",
    "       if done:\n",
    "           # in this case the episode is over\n",
    "           break"
   ]
  },
  {
   "cell_type": "markdown",
   "metadata": {},
   "source": [
    "## Chunk size"
   ]
  },
  {
   "cell_type": "code",
   "execution_count": 7,
   "metadata": {},
   "outputs": [],
   "source": [
    "import numpy as np\n",
    "import re\n",
    "import grid2op\n",
    "from grid2op.Agent import RandomAgent\n",
    "env = grid2op.make(\"l2rpn_case14_sandbox\")\n",
    "agent = RandomAgent(env.action_space)\n",
    "env.seed(0)  # for reproducible experiments\n",
    "\n",
    "###################################\n",
    "env.chronics_handler.set_chunk_size(100)\n",
    "###################################\n",
    "\n",
    "episode_count = 500  # i want to make lots of episode\n",
    "\n",
    "# i initialize some useful variables\n",
    "reward = 0\n",
    "done = False\n",
    "total_reward = 0\n",
    "\n",
    "# and now the loop starts\n",
    "# it will only used the chronics selected\n",
    "for i in range(episode_count):\n",
    "    ob = env.reset()\n",
    "\n",
    "    # now play the episode as usual\n",
    "    while True:\n",
    "       action = agent.act(ob, reward, done)\n",
    "       ob, reward, done, info = env.step(action)\n",
    "       total_reward += reward\n",
    "       if done:\n",
    "           # in this case the episode is over\n",
    "           break"
   ]
  },
  {
   "cell_type": "code",
   "execution_count": 8,
   "metadata": {},
   "outputs": [],
   "source": [
    "# 2m 48s if not chunked\n",
    "# 2m 33s if chunked\n"
   ]
  },
  {
   "cell_type": "code",
   "execution_count": null,
   "metadata": {},
   "outputs": [],
   "source": []
  }
 ],
 "metadata": {
  "kernelspec": {
   "display_name": "venv_g2op",
   "language": "python",
   "name": "python3"
  },
  "language_info": {
   "codemirror_mode": {
    "name": "ipython",
    "version": 3
   },
   "file_extension": ".py",
   "mimetype": "text/x-python",
   "name": "python",
   "nbconvert_exporter": "python",
   "pygments_lexer": "ipython3",
   "version": "3.10.10"
  }
 },
 "nbformat": 4,
 "nbformat_minor": 2
}
